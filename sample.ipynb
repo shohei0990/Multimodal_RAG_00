{
 "cells": [
  {
   "cell_type": "markdown",
   "metadata": {},
   "source": [
    "### ◼︎ VertexAI / Gemini API の確認"
   ]
  },
  {
   "cell_type": "code",
   "execution_count": null,
   "metadata": {},
   "outputs": [],
   "source": [
    "import os\n",
    "import vertexai\n",
    "import google.generativeai as genai\n",
    "\n",
    "# 環境変数 GOOGLE_APPLICATION_CREDENTIALS を設定\n",
    "os.environ['GOOGLE_APPLICATION_CREDENTIALS'] = \"＊＊＊＊＊.json\"\n",
    "# プロジェクトIDを設定\n",
    "vertexai.init(project='＊＊＊＊＊')\n",
    "# APIキーの設定\n",
    "api_key = \"＊＊＊＊＊＊\"\n",
    "genai.configure(api_key=api_key)\n",
    "\n",
    "for m in genai.list_models():\n",
    "  if 'generateContent' in m.supported_generation_methods:\n",
    "    print(m.name)"
   ]
  },
  {
   "cell_type": "code",
   "execution_count": null,
   "metadata": {},
   "outputs": [],
   "source": [
    "gemini_pro = genai.GenerativeModel(\"gemini-pro\")\n",
    "prompt = \"日本で、美味しい魚料理を教えてください?\"\n",
    "response = gemini_pro.generate_content(prompt)\n",
    "print(response.text)"
   ]
  },
  {
   "cell_type": "markdown",
   "metadata": {},
   "source": [
    "### ●　PDFから画像、テーブル、テキストを読み込む"
   ]
  },
  {
   "cell_type": "code",
   "execution_count": 14,
   "metadata": {},
   "outputs": [],
   "source": [
    "import os\n",
    "import json\n",
    "from dotenv import load_dotenv\n",
    "from typing import List, Tuple\n",
    "from unstructured.partition.pdf import partition_pdf"
   ]
  },
  {
   "cell_type": "code",
   "execution_count": 2,
   "metadata": {},
   "outputs": [],
   "source": [
    "dir_name = \"dataset_dir\"\n",
    "pdf_file_name = \"attention.pdf\""
   ]
  },
  {
   "cell_type": "code",
   "execution_count": 3,
   "metadata": {},
   "outputs": [],
   "source": [
    "def partition_pdf_by_element_type(\n",
    "    dataset_dir: str, pdf_file_name: str\n",
    ") -> Tuple[List[str], List[str]]:\n",
    "    loaded_pdf = partition_pdf(\n",
    "        filename=os.path.join(dataset_dir, pdf_file_name),\n",
    "        extract_images_in_pdf=True,\n",
    "        infer_table_structure=True,\n",
    "        chunking_strategy=\"by_title\",\n",
    "        max_characters=4000,\n",
    "        new_after_n_chars=3800,\n",
    "        combine_text_under_n_chars=2000,\n",
    "        image_output_dir_path=os.path.join(dataset_dir, \"images\"),\n",
    "    )\n",
    "\n",
    "    # テーブルとテキストをリストに格納する\n",
    "    tables, texts = [], []\n",
    "    for element in loaded_pdf:\n",
    "        if \"unstructured.documents.elements.Table\" in str(type(element)):\n",
    "            tables.append(str(element))\n",
    "        elif \"unstructured.documents.elements.CompositeElement\" in str(\n",
    "            type(element)\n",
    "        ):\n",
    "            texts.append(str(element))\n",
    "\n",
    "    return tables, texts"
   ]
  },
  {
   "cell_type": "code",
   "execution_count": 4,
   "metadata": {},
   "outputs": [
    {
     "name": "stderr",
     "output_type": "stream",
     "text": [
      "Some weights of the model checkpoint at microsoft/table-transformer-structure-recognition were not used when initializing TableTransformerForObjectDetection: ['model.backbone.conv_encoder.model.layer3.0.downsample.1.num_batches_tracked', 'model.backbone.conv_encoder.model.layer2.0.downsample.1.num_batches_tracked', 'model.backbone.conv_encoder.model.layer4.0.downsample.1.num_batches_tracked']\n",
      "- This IS expected if you are initializing TableTransformerForObjectDetection from the checkpoint of a model trained on another task or with another architecture (e.g. initializing a BertForSequenceClassification model from a BertForPreTraining model).\n",
      "- This IS NOT expected if you are initializing TableTransformerForObjectDetection from the checkpoint of a model that you expect to be exactly identical (initializing a BertForSequenceClassification model from a BertForSequenceClassification model).\n"
     ]
    },
    {
     "name": "stdout",
     "output_type": "stream",
     "text": [
      "tables の内容を '/Users/ishidashouhei/my_project2/20240109_gemini/dataset_dir/tables.json' に保存しました。\n",
      "text の内容を '/Users/ishidashouhei/my_project2/20240109_gemini/dataset_dir/texts.json' に保存しました。\n"
     ]
    }
   ],
   "source": [
    "dataset_dir = os.path.join(os.getcwd(), dir_name)\n",
    "\n",
    "tables, texts = partition_pdf_by_element_type(\n",
    "    dataset_dir=dataset_dir, pdf_file_name=pdf_file_name\n",
    ")\n",
    "\n",
    "# JSON ファイルに tables の内容を保存\n",
    "with open(os.path.join(dataset_dir, 'tables.json'), 'w', encoding='utf-8') as json_file:\n",
    "    json.dump(tables, json_file, ensure_ascii=False, indent=4)\n",
    "\n",
    "print(f\"tables の内容を '{os.path.join(dataset_dir, 'tables.json')}' に保存しました。\")\n",
    "\n",
    "# JSON ファイルに text の内容を保存\n",
    "with open(os.path.join(dataset_dir, 'texts.json'), 'w', encoding='utf-8') as json_file:\n",
    "    json.dump(texts, json_file, ensure_ascii=False, indent=4)\n",
    "\n",
    "print(f\"text の内容を '{os.path.join(dataset_dir, 'texts.json')}' に保存しました。\")"
   ]
  },
  {
   "cell_type": "markdown",
   "metadata": {},
   "source": [
    "### ●　画像、テーブル、テキストデータの要約・紐付けの整理"
   ]
  },
  {
   "cell_type": "code",
   "execution_count": 5,
   "metadata": {},
   "outputs": [],
   "source": [
    "import os\n",
    "import json\n",
    "import uuid\n",
    "import base64\n",
    "import vertexai\n",
    "import google.generativeai as genai\n",
    "\n",
    "from typing import Any, Dict, List\n",
    "from langchain.embeddings import VertexAIEmbeddings\n",
    "from langchain.retrievers.multi_vector import MultiVectorRetriever\n",
    "from langchain.schema.document import Document\n",
    "from langchain.storage import InMemoryStore\n",
    "from langchain.vectorstores import Chroma\n",
    "from langchain_core.documents import Document\n",
    "from langchain.prompts import ChatPromptTemplate\n",
    "from langchain.schema.output_parser import StrOutputParser\n",
    "from langchain_community.chat_models import ChatVertexAI\n",
    "from langchain.schema.messages import HumanMessage\n",
    "from langchain.prompts import ChatPromptTemplate\n",
    "from langchain.schema.output_parser import StrOutputParser"
   ]
  },
  {
   "cell_type": "code",
   "execution_count": null,
   "metadata": {},
   "outputs": [],
   "source": [
    "google_application_credentials = \"/Users/my_project/key_name.json\"\n",
    "\n",
    "# プロジェクトIDを設定 #変更してください。\n",
    "vertexai.init(project='project名')\n",
    "\n",
    "# APIキーの設定 #変更してください。\n",
    "api_key = \"*********\"\n",
    "genai.configure(api_key=api_key)\n",
    "\n",
    "for m in genai.list_models():\n",
    "  if 'generateContent' in m.supported_generation_methods:\n",
    "    print(m.name)"
   ]
  },
  {
   "cell_type": "code",
   "execution_count": 31,
   "metadata": {},
   "outputs": [],
   "source": [
    "# 画像ファイルをBase64エンコードされた文字列に変換\n",
    "def image_to_base64(image_path: str) -> str:\n",
    "    with open(image_path, \"rb\") as image_file:\n",
    "        encoded_string = base64.b64encode(image_file.read()).decode(\"utf-8\")\n",
    "    return encoded_string\n",
    "\n",
    "# Gemini Pro Visionにて画像の説明を行い、説明結果とbase64を返却する\n",
    "def summarize_images_with_gemini(image_dir: str) -> Dict[str, List[Any]]:\n",
    "    image_base64_list = []\n",
    "    image_summaries_list = []\n",
    "    image_summary_prompt = \"\"\"\n",
    "    入力された画像の内容を詳細に説明してください。\n",
    "    基本的には日本語で回答してほしいですが、専門用語や固有名詞を用いて説明をする際には英語のままで構いません。\n",
    "    \"\"\"\n",
    "\n",
    "    for image_file_name in sorted(os.listdir(image_dir)):\n",
    "        if image_file_name.endswith(\".jpg\"):\n",
    "            image_file_path = os.path.join(image_dir, image_file_name)\n",
    "\n",
    "            # encodeを行い、base64をリストに格納する\n",
    "            image_base64 = image_to_base64(image_file_path)\n",
    "            image_base64_list.append(image_base64)\n",
    "\n",
    "            # Geminiで画像の説明を行い、結果をリストに格納する\n",
    "            summarize_model_name = \"gemini-pro-vision\"\n",
    "            summarize_model = ChatVertexAI(\n",
    "                model_name=summarize_model_name,\n",
    "                max_output_tokens=2048,\n",
    "                temperature=0.4,\n",
    "                top_p=1,\n",
    "                top_k=32,\n",
    "            )\n",
    "\n",
    "            text_message = {\"type\": \"text\", \"text\": image_summary_prompt}\n",
    "            image_message = {\n",
    "                \"type\": \"image_url\",\n",
    "                \"image_url\": {\"url\": image_file_path},\n",
    "            }\n",
    "            \n",
    "            response = summarize_model.invoke([HumanMessage(content=[text_message, image_message])])\n",
    "\n",
    "            image_summaries_list.append(response.content)\n",
    "            images_dict = {\n",
    "                \"image_list\": image_base64_list,\n",
    "                \"image_summaries\": image_summaries_list,\n",
    "            }\n",
    "\n",
    "    return images_dict"
   ]
  },
  {
   "cell_type": "code",
   "execution_count": 32,
   "metadata": {},
   "outputs": [],
   "source": [
    "def summarize_tables_with_gemini(\n",
    "    tables_list: List[str],\n",
    "    ) -> Dict[str, List[Any]]:\n",
    "    table_summary_prompt_template = \"\"\"\n",
    "    テーブルが与えられます。\n",
    "    下記に記載されている出力項目に着目して、読み取れることを出力してください。\n",
    "\n",
    "    # 出力項目:\n",
    "    - 何がまとめられているテーブルなのか\n",
    "    - テーブルに記載されているキーワード\n",
    "    - テーブルから読み取ることができる分析結果\n",
    "\n",
    "    # テーブル:\n",
    "    {table}\n",
    "    \"\"\"\n",
    "\n",
    "    table_summary_prompt = ChatPromptTemplate.from_template(\n",
    "        table_summary_prompt_template\n",
    "    )\n",
    "\n",
    "    summarize_model_name = \"gemini-pro\"\n",
    "    summarize_model = ChatVertexAI(\n",
    "        model_name=summarize_model_name,\n",
    "        max_output_tokens=2048,\n",
    "        temperature=0.9,\n",
    "        top_p=1,\n",
    "    )\n",
    "\n",
    "    # LCELでチェーンを記述\n",
    "    summarize_chain = (\n",
    "        {\"table\": lambda x: x}\n",
    "        | table_summary_prompt\n",
    "        | summarize_model\n",
    "        | StrOutputParser()\n",
    "    )\n",
    "    table_summaries = summarize_chain.batch(\n",
    "        tables_list, config={\"max_concurrency\": 5}\n",
    "    )\n",
    "\n",
    "    tables_dict = {\n",
    "        \"table_list\": tables_list,\n",
    "        \"table_summaries\": table_summaries,\n",
    "    }\n",
    "    return tables_dict"
   ]
  },
  {
   "cell_type": "code",
   "execution_count": 33,
   "metadata": {},
   "outputs": [],
   "source": [
    "def hypothetical_queries_with_gemini(\n",
    "    texts_list: List[str],\n",
    "    ) -> Dict[str, List[Any]]:\n",
    "    text_summary_prompt_template = \"\"\"\n",
    "    テキストチャンクが与えられます。\n",
    "    そのチャンクに対して、想定される質問を1つ考えてください。\n",
    "    下記の制約条件を厳格に守ってください。\n",
    "\n",
    "    # 制約条件:\n",
    "    - あなたが考えた質問のみを出力してください\n",
    "    - 質問を考える際には、質問例を参考にしてください\n",
    "    - 1つのテキストチャンクに対して、1つの回答を出力してください\n",
    "\n",
    "    # 質問例:\n",
    "    - MultiVectorRetrieverとはどのようなものですか？\n",
    "    - 「Vertex AI(Gemini API)でGemini Proを試す」というブログの著者は誰ですか？\n",
    "    - Vertex AIのGemini APIではどのようなことができますか？\n",
    "\n",
    "    # テキストチャンク:\n",
    "    {text}\n",
    "    \"\"\"\n",
    "\n",
    "    text_summary_prompt = ChatPromptTemplate.from_template(\n",
    "        text_summary_prompt_template\n",
    "    )\n",
    "\n",
    "    summarize_model_name = \"gemini-pro\"\n",
    "    summarize_model = ChatVertexAI(\n",
    "        model_name=summarize_model_name,\n",
    "        max_output_tokens=2048,\n",
    "        temperature=0.9,\n",
    "        top_p=1,\n",
    "    )\n",
    "\n",
    "    # LCELでチェーンを記述\n",
    "    summarize_chain = (\n",
    "        {\"text\": lambda x: x}\n",
    "        | text_summary_prompt\n",
    "        | summarize_model\n",
    "        | StrOutputParser()\n",
    "    )\n",
    "    text_summaries = summarize_chain.batch(\n",
    "        texts_list, config={\"max_concurrency\": 5}\n",
    "    )\n",
    "    texts_dict = {\n",
    "        \"texts_list\": texts_list,\n",
    "        \"text_summaries\": text_summaries,\n",
    "    }\n",
    "\n",
    "    return texts_dict"
   ]
  },
  {
   "cell_type": "code",
   "execution_count": 36,
   "metadata": {},
   "outputs": [],
   "source": [
    "dataset_dir = os.path.join(os.getcwd(), dir_name)\n",
    "\n",
    "images_dict = summarize_images_with_gemini(\n",
    "    image_dir=os.path.join(dataset_dir, \"images\")\n",
    ")\n",
    "# ここで hypothetical_queries_with_gemini 関数を呼び出していると仮定します\n",
    "texts_dict = hypothetical_queries_with_gemini(texts_list=texts)\n",
    "\n",
    "# summarize_tables_with_gemini 関数を呼び出してテーブルを要約する\n",
    "tables_dict = summarize_tables_with_gemini(tables_list=tables)"
   ]
  },
  {
   "cell_type": "code",
   "execution_count": 37,
   "metadata": {},
   "outputs": [],
   "source": [
    "# texts_dictを保存\n",
    "with open(os.path.join(dataset_dir, 'texts_dict.json'), 'w', encoding='utf-8') as f:\n",
    "    json.dump(texts_dict, f, ensure_ascii=False, indent=4)\n",
    "\n",
    "# tables_dictを保存\n",
    "with open(os.path.join(dataset_dir, 'tables_dict.json'), 'w', encoding='utf-8') as f:\n",
    "    json.dump(tables_dict, f, ensure_ascii=False, indent=4)\n",
    "\n",
    "# images_dictを保存\n",
    "with open(os.path.join(dataset_dir, 'images_dict.json'), 'w', encoding='utf-8') as f:\n",
    "    json.dump(images_dict, f, ensure_ascii=False, indent=4)"
   ]
  },
  {
   "cell_type": "markdown",
   "metadata": {},
   "source": [
    "### ●　ベクトルDBの作成"
   ]
  },
  {
   "cell_type": "code",
   "execution_count": 38,
   "metadata": {},
   "outputs": [],
   "source": [
    "def import_data_to_vector_store(\n",
    "    texts_dict: Dict[str, List[Any]],\n",
    "    tables_dict: Dict[str, List[Any]],\n",
    "    images_dict: Dict[str, List[Any]],\n",
    "    ) -> MultiVectorRetriever:\n",
    "    embedding_model_name = \"textembedding-gecko-multilingual@001\"\n",
    "    # embedding_model_name = \"textembedding-gecko@003\"\n",
    "    embedding_function = VertexAIEmbeddings(model_name=embedding_model_name)\n",
    "    vectorstore = Chroma(\n",
    "        collection_name=\"gemini-pro-multi-rag\",\n",
    "        embedding_function=embedding_function,\n",
    "    )\n",
    "\n",
    "    # 元の文章を保存するためのストレージ\n",
    "    store = InMemoryStore()\n",
    "    id_key = \"doc_id\"\n",
    "\n",
    "    # Retrieverの作成\n",
    "    multivector_retriever = MultiVectorRetriever(\n",
    "        vectorstore=vectorstore,\n",
    "        docstore=store,\n",
    "        id_key=id_key,\n",
    "        search_kwargs={\"k\": 6},\n",
    "    )\n",
    "\n",
    "    # テキストデータをembedding、vectorstoreに格納する\n",
    "    doc_ids = [str(uuid.uuid4()) for _ in texts_dict[\"texts_list\"]]\n",
    "    # チャンクを保存する\n",
    "    for i, s in enumerate(texts_dict[\"texts_list\"]):\n",
    "        if s != \"\":\n",
    "            multivector_retriever.vectorstore.add_documents(\n",
    "                [Document(page_content=s, metadata={id_key: doc_ids[i]})]\n",
    "            )\n",
    "    # テキストチャンクとidを紐づける\n",
    "    multivector_retriever.docstore.mset(\n",
    "        list(zip(doc_ids, texts_dict[\"texts_list\"]))\n",
    "    )\n",
    "    print(\"### Text Data Stored! ###\")\n",
    "\n",
    "    # 想定質問を保存する\n",
    "    doc_summary_ids = [str(uuid.uuid4()) for _ in texts_dict[\"texts_list\"]]\n",
    "    for i, s in enumerate(texts_dict[\"text_summaries\"]):\n",
    "        if s != \"\":\n",
    "            multivector_retriever.vectorstore.add_documents(\n",
    "                [\n",
    "                    Document(\n",
    "                        page_content=s, metadata={id_key: doc_summary_ids[i]}\n",
    "                    )\n",
    "                ]\n",
    "            )\n",
    "    # テキストチャンクとidを紐づける\n",
    "    multivector_retriever.docstore.mset(\n",
    "        list(zip(doc_summary_ids, texts_dict[\"texts_list\"]))\n",
    "    )\n",
    "    print(\"### Hypothetical Queries Data Stored! ###\")\n",
    "\n",
    "    # テーブルデータの説明をembedding、vectorstoreに格納する\n",
    "    table_ids = [str(uuid.uuid4()) for _ in tables_dict[\"table_list\"]]\n",
    "    # テーブルの説明を保存する\n",
    "    for i, s in enumerate(tables_dict[\"table_summaries\"]):\n",
    "        multivector_retriever.vectorstore.add_documents(\n",
    "            [Document(page_content=s, metadata={id_key: table_ids[i]})]\n",
    "        )\n",
    "    # tablesを保存、とidを紐づける\n",
    "    multivector_retriever.docstore.mset(\n",
    "        list(zip(table_ids, tables_dict[\"table_list\"]))\n",
    "    )\n",
    "    print(\"### Table Data Stored! ###\")\n",
    "\n",
    "    # 画像データの説明をembedding、vectorstoreに格納する\n",
    "    img_ids = [str(uuid.uuid4()) for _ in images_dict[\"image_list\"]]\n",
    "    # 画像の説明を保存する\n",
    "    for i, s in enumerate(images_dict[\"image_summaries\"]):\n",
    "        multivector_retriever.vectorstore.add_documents(\n",
    "            [Document(page_content=s, metadata={id_key: img_ids[i]})]\n",
    "        )\n",
    "    # imagesを保存、とidを紐づける\n",
    "    multivector_retriever.docstore.mset(\n",
    "        list(zip(img_ids, images_dict[\"image_list\"]))\n",
    "    )\n",
    "    print(\"### Image Data Stored! ###\")\n",
    "\n",
    "    return multivector_retriever"
   ]
  },
  {
   "cell_type": "code",
   "execution_count": 39,
   "metadata": {},
   "outputs": [
    {
     "name": "stdout",
     "output_type": "stream",
     "text": [
      "### Text Data Stored! ###\n",
      "### Hypothetical Queries Data Stored! ###\n",
      "### Table Data Stored! ###\n",
      "### Image Data Stored! ###\n",
      "ベクトルDB作成が完了しました。\n"
     ]
    }
   ],
   "source": [
    "\n",
    "multivector_retriever = import_data_to_vector_store(\n",
    "    texts_dict  = texts_dict,  # 修正: texts -> texts_dict\n",
    "    tables_dict = tables_dict,\n",
    "    images_dict = images_dict\n",
    ")\n",
    "# 処理が完了したことを示すメッセージを出力\n",
    "print(\"ベクトルDB作成が完了しました。\")"
   ]
  },
  {
   "cell_type": "markdown",
   "metadata": {},
   "source": [
    "### ●　実行"
   ]
  },
  {
   "cell_type": "code",
   "execution_count": 40,
   "metadata": {},
   "outputs": [],
   "source": [
    "from base64 import b64decode\n",
    "from PIL import Image\n",
    "import io\n",
    "import numpy as np\n",
    "import matplotlib.pyplot as plt\n",
    "\n",
    "from langchain.chat_models import ChatVertexAI\n",
    "from langchain.schema.messages import BaseMessage, HumanMessage\n",
    "from langchain.prompts import ChatPromptTemplate\n",
    "from langchain.schema.output_parser import StrOutputParser\n",
    "from langchain.retrievers.multi_vector import MultiVectorRetriever\n",
    "from langchain.schema.output_parser import StrOutputParser\n",
    "from langchain_core.runnables import RunnableLambda, RunnablePassthrough"
   ]
  },
  {
   "cell_type": "code",
   "execution_count": 41,
   "metadata": {},
   "outputs": [],
   "source": [
    "def plt_image_base64(img_base64: str) -> None:\n",
    "    # Base64データをデコードして画像に変換\n",
    "    image_data = base64.b64decode(img_base64)\n",
    "    image = Image.open(io.BytesIO(image_data))\n",
    "\n",
    "    # PILイメージをNumPy配列に変換\n",
    "    image_np = np.array(image)\n",
    "\n",
    "    # 画像を表示\n",
    "    plt.imshow(image_np)\n",
    "    plt.axis(\"off\")\n",
    "    plt.show()\n",
    "\n",
    "def generate_prompt(data: dict) -> List[HumanMessage]:\n",
    "    prompt_template = f\"\"\"\n",
    "        以下のcontext（テキストと表）のみに基づいて質問に答えてください。\n",
    "        入力画像が質問に対して関連しない場合には、画像は無視してください。\n",
    "\n",
    "        質問:\n",
    "        {data[\"question\"]}\n",
    "\n",
    "        context:\n",
    "        {data[\"context\"][\"texts\"]}\n",
    "        \"\"\"\n",
    "    text_message = {\"type\": \"text\", \"text\": prompt_template}\n",
    "\n",
    "    # 画像がRetrivalで取得された場合には画像を追加,エンコードしてmatplotlibで表示する\n",
    "    # 画像が複数取得されている場合には、関連性が最も高いものをモデルへの入力とする\n",
    "    if data[\"context\"][\"images\"]:\n",
    "        plt_image_base64(data[\"context\"][\"images\"][0])\n",
    "        image_url = f\"data:image/jpeg;base64,{data['context']['images'][0]}\"\n",
    "        image_message = {\"type\": \"image_url\", \"image_url\": {\"url\": image_url}}\n",
    "        return [HumanMessage(content=[text_message, image_message])]\n",
    "    else:\n",
    "        return [HumanMessage(content=[text_message])]\n",
    "\n",
    "\n",
    "# 画像とテキストを分割する\n",
    "def split_data_type(docs: List[str]) -> Dict[str, List[str]]:\n",
    "    base64, text = [], []\n",
    "    for doc in docs:\n",
    "        try:\n",
    "            b64decode(doc)\n",
    "            base64.append(doc)\n",
    "        except Exception:\n",
    "            text.append(doc)\n",
    "    return {\"images\": base64, \"texts\": text}\n",
    "\n",
    "\n",
    "# 画像がない場合にはgemini-proを選択する\n",
    "def model_selection(message: List[BaseMessage]) -> Any:\n",
    "    if len(message[0].content) == 1:\n",
    "        answer_generation_model = \"gemini-pro\"\n",
    "    else:\n",
    "        answer_generation_model = \"gemini-pro-vision\"\n",
    "\n",
    "    model = ChatVertexAI(model_name=answer_generation_model)\n",
    "    response = model(message)\n",
    "    return response\n",
    "\n",
    "\n",
    "# Chainを作成、実行する\n",
    "def multimodal_rag(retriever: MultiVectorRetriever, question: str) -> str:\n",
    "    chain = (\n",
    "        {\n",
    "            \"context\": retriever | RunnableLambda(split_data_type),\n",
    "            \"question\": RunnablePassthrough(),\n",
    "        }\n",
    "        | RunnableLambda(generate_prompt)\n",
    "        | RunnableLambda(model_selection)\n",
    "        | StrOutputParser()\n",
    "    )\n",
    "    answer = chain.invoke(question)\n",
    "    return answer"
   ]
  },
  {
   "cell_type": "code",
   "execution_count": 45,
   "metadata": {},
   "outputs": [
    {
     "name": "stderr",
     "output_type": "stream",
     "text": [
      "/Users/ishidashouhei/my_project2/.venv3/lib/python3.10/site-packages/langchain_core/_api/deprecation.py:189: LangChainDeprecationWarning: The function `__call__` was deprecated in LangChain 0.1.7 and will be removed in 0.2.0. Use invoke instead.\n",
      "  warn_deprecated(\n"
     ]
    },
    {
     "name": "stdout",
     "output_type": "stream",
     "text": [
      "質問1の処理中にエラーが発生しました: The response was blocked.\n"
     ]
    }
   ],
   "source": [
    "question_1 = \"Attentionの論文の著者は誰ですか？また、所属はどこですか？\"\n",
    "\n",
    "try:\n",
    "    answer_1 = multimodal_rag(multivector_retriever, question_1)\n",
    "    print(answer_1)\n",
    "except Exception as e:\n",
    "    print(f\"質問1の処理中にエラーが発生しました: {e}\")"
   ]
  },
  {
   "cell_type": "code",
   "execution_count": 47,
   "metadata": {},
   "outputs": [
    {
     "data": {
      "image/png": "[encoded data removed]",
      "text/plain": [
       "<Figure size 640x480 with 1 Axes>"
      ]
     },
     "metadata": {},
     "output_type": "display_data"
    },
    {
     "name": "stderr",
     "output_type": "stream",
     "text": [
      "/Users/ishidashouhei/my_project2/.venv3/lib/python3.10/site-packages/langchain_core/_api/deprecation.py:189: LangChainDeprecationWarning: The function `__call__` was deprecated in LangChain 0.1.7 and will be removed in 0.2.0. Use invoke instead.\n",
      "  warn_deprecated(\n"
     ]
    },
    {
     "name": "stdout",
     "output_type": "stream",
     "text": [
      "質問2の処理中にエラーが発生しました: The response was blocked.\n"
     ]
    }
   ],
   "source": [
    "question_2 = \"Transformerのアーキテクチャとはどのようなものですか？\"\n",
    "\n",
    "try:\n",
    "    answer_2 = multimodal_rag(multivector_retriever, question_2)\n",
    "    print(answer_2)\n",
    "except Exception as e:\n",
    "    print(f\"質問2の処理中にエラーが発生しました: {e}\")"
   ]
  }
 ],
 "metadata": {
  "kernelspec": {
   "display_name": ".venv3",
   "language": "python",
   "name": "python3"
  },
  "language_info": {
   "codemirror_mode": {
    "name": "ipython",
    "version": 3
   },
   "file_extension": ".py",
   "mimetype": "text/x-python",
   "name": "python",
   "nbconvert_exporter": "python",
   "pygments_lexer": "ipython3",
   "version": "3.10.11"
  }
 },
 "nbformat": 4,
 "nbformat_minor": 2
}
